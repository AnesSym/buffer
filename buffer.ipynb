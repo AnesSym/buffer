{
 "cells": [
  {
   "cell_type": "code",
   "execution_count": 260,
   "metadata": {},
   "outputs": [],
   "source": [
    "import pandas as pd\n",
    "import geopandas as gpd\n",
    "from shapely.geometry import Point"
   ]
  },
  {
   "cell_type": "code",
   "execution_count": 261,
   "metadata": {},
   "outputs": [],
   "source": [
    "df = pd.read_csv(\"geom_points.csv\")"
   ]
  },
  {
   "cell_type": "code",
   "execution_count": null,
   "metadata": {},
   "outputs": [],
   "source": [
    "# Function to parse the geom column\n",
    "def parse_point(geom_str):\n",
    "    lon, lat = map(float, geom_str.strip(\"POINT ()\").split())\n",
    "    return Point(lon, lat)\n",
    "\n",
    "df['geometry'] = df['geom'].apply(parse_point) #create a new column"
   ]
  },
  {
   "cell_type": "code",
   "execution_count": null,
   "metadata": {},
   "outputs": [],
   "source": [
    "gdf_points = gpd.GeoDataFrame(df, geometry='geometry', crs=\"EPSG:4326\") #create a gdf"
   ]
  },
  {
   "cell_type": "code",
   "execution_count": null,
   "metadata": {},
   "outputs": [],
   "source": [
    "gdf_points = gdf_points.to_crs(\"EPSG:3857\") #UTM crs for calculation\n",
    "#central_point = gdf_points.sample(1).iloc[0].geometry #point is randomly choosen\n",
    "central_point = gdf_points.iloc[200].geometry #we choose the point"
   ]
  },
  {
   "cell_type": "code",
   "execution_count": null,
   "metadata": {},
   "outputs": [],
   "source": [
    "BUFFER_RADIUS = 10000 #10000 meters // 10km \n",
    "buffer = central_point.buffer(BUFFER_RADIUS) #create a radius around the central point "
   ]
  },
  {
   "cell_type": "code",
   "execution_count": null,
   "metadata": {},
   "outputs": [],
   "source": [
    "points_within_buffer = gdf_points[gdf_points.geometry.within(buffer) & (gdf_points.geometry != central_point)] #check what points are inside of the radius excluding central point"
   ]
  },
  {
   "cell_type": "code",
   "execution_count": null,
   "metadata": {},
   "outputs": [],
   "source": [
    "gdf_points = gdf_points.to_crs(\"EPSG:4326\") #return to old crs for representation\n",
    "points_within_buffer = points_within_buffer.to_crs(\"EPSG:4326\")"
   ]
  },
  {
   "cell_type": "code",
   "execution_count": 268,
   "metadata": {},
   "outputs": [
    {
     "name": "stdout",
     "output_type": "stream",
     "text": [
      "points inside radius 18 from  400 points\n",
      "95     POINT (-122.42141 37.77404)\n",
      "96     POINT (-122.41529 37.78288)\n",
      "139     POINT (-122.45568 37.6927)\n",
      "140    POINT (-122.46365 37.70179)\n",
      "142    POINT (-122.41057 37.70729)\n",
      "143    POINT (-122.42404 37.70153)\n",
      "144    POINT (-122.40646 37.69093)\n",
      "146    POINT (-122.47039 37.71527)\n",
      "198    POINT (-122.38428 37.74564)\n",
      "199    POINT (-122.40158 37.74556)\n",
      "200    POINT (-122.39735 37.73987)\n",
      "201     POINT (-122.40027 37.7275)\n",
      "202     POINT (-122.4012 37.72597)\n",
      "203    POINT (-122.39655 37.72772)\n",
      "204    POINT (-122.38244 37.75076)\n",
      "205    POINT (-122.40241 37.74898)\n",
      "206    POINT (-122.40337 37.74791)\n",
      "207    POINT (-122.39637 37.74824)\n",
      "Name: geometry, dtype: geometry\n"
     ]
    }
   ],
   "source": [
    "print(\"points inside radius\",len(points_within_buffer), \"from \",len(gdf_points), \"points\")\n",
    "print(points_within_buffer[\"geometry\"])"
   ]
  }
 ],
 "metadata": {
  "kernelspec": {
   "display_name": "venv",
   "language": "python",
   "name": "python3"
  },
  "language_info": {
   "codemirror_mode": {
    "name": "ipython",
    "version": 3
   },
   "file_extension": ".py",
   "mimetype": "text/x-python",
   "name": "python",
   "nbconvert_exporter": "python",
   "pygments_lexer": "ipython3",
   "version": "3.10.11"
  }
 },
 "nbformat": 4,
 "nbformat_minor": 2
}
