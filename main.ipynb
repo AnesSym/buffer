{
 "cells": [
  {
   "cell_type": "code",
   "execution_count": 172,
   "metadata": {},
   "outputs": [],
   "source": [
    "import geopandas as gpd\n",
    "from shapely.geometry import Point\n",
    "import random"
   ]
  },
  {
   "cell_type": "code",
   "execution_count": 173,
   "metadata": {},
   "outputs": [],
   "source": [
    "#radius of the buffer \n",
    "BUFFER_RADIUS = 10000\n",
    "#num of random points \n",
    "NUM_POINTS = 100"
   ]
  },
  {
   "cell_type": "code",
   "execution_count": 174,
   "metadata": {},
   "outputs": [],
   "source": [
    "#bounds for random points \n",
    "lon_min, lon_max = -0.15, 0.15\n",
    "lat_min, lat_max = 51.45, 51.55"
   ]
  },
  {
   "cell_type": "code",
   "execution_count": 175,
   "metadata": {},
   "outputs": [
    {
     "name": "stdout",
     "output_type": "stream",
     "text": [
      "[<POINT (0.046 51.549)>, <POINT (-0.012 51.471)>, <POINT (0.071 51.484)>, <POINT (-0.059 51.525)>, <POINT (-0.078 51.531)>, <POINT (-0.066 51.493)>, <POINT (-0.06 51.549)>, <POINT (-0.032 51.507)>, <POINT (0.081 51.51)>, <POINT (-0.119 51.53)>, <POINT (0.02 51.523)>, <POINT (-0.115 51.512)>, <POINT (-0.129 51.538)>, <POINT (0.135 51.492)>, <POINT (-0.05 51.452)>, <POINT (-0.132 51.5)>, <POINT (0.103 51.539)>, <POINT (-0.024 51.513)>, <POINT (0.081 51.466)>, <POINT (0.004 51.471)>, <POINT (0.089 51.54)>, <POINT (-0.056 51.521)>, <POINT (-0.04 51.462)>, <POINT (-0.073 51.466)>, <POINT (-0.137 51.452)>, <POINT (0.041 51.524)>, <POINT (0.077 51.528)>, <POINT (0.077 51.549)>, <POINT (0.141 51.497)>, <POINT (0.1 51.519)>, <POINT (0.09 51.501)>, <POINT (0.039 51.504)>, <POINT (0.132 51.521)>, <POINT (-0.137 51.473)>, <POINT (0.064 51.513)>, <POINT (0 51.451)>, <POINT (0.037 51.517)>, <POINT (-0.139 51.469)>, <POINT (-0.093 51.498)>, <POINT (-0.056 51.457)>, <POINT (-0.092 51.55)>, <POINT (-0.046 51.501)>, <POINT (-0.127 51.461)>, <POINT (0.021 51.489)>, <POINT (0.082 51.489)>, <POINT (0.096 51.539)>, <POINT (-0.12 51.543)>, <POINT (-0.072 51.49)>, <POINT (0.131 51.51)>, <POINT (0.005 51.499)>, <POINT (0.055 51.522)>, <POINT (-0.133 51.451)>, <POINT (-0.024 51.459)>, <POINT (-0.126 51.539)>, <POINT (0.098 51.48)>, <POINT (0.057 51.466)>, <POINT (-0.013 51.487)>, <POINT (0.143 51.494)>, <POINT (0.148 51.477)>, <POINT (-0.023 51.491)>, <POINT (0.14 51.474)>, <POINT (-0.034 51.468)>, <POINT (0.044 51.524)>, <POINT (-0.139 51.496)>, <POINT (0.128 51.536)>, <POINT (0.12 51.511)>, <POINT (-0.121 51.472)>, <POINT (0.131 51.512)>, <POINT (0.13 51.453)>, <POINT (-0.048 51.494)>, <POINT (0.002 51.521)>, <POINT (0.124 51.526)>, <POINT (0.05 51.472)>, <POINT (-0.117 51.506)>, <POINT (-0.145 51.539)>, <POINT (-0.128 51.506)>, <POINT (-0.036 51.538)>, <POINT (0.127 51.457)>, <POINT (-0.001 51.506)>, <POINT (-0.046 51.486)>, <POINT (0.1 51.464)>, <POINT (-0.12 51.478)>, <POINT (0.068 51.5)>, <POINT (-0.058 51.495)>, <POINT (0.118 51.468)>, <POINT (-0.103 51.458)>, <POINT (-0.007 51.491)>, <POINT (-0.021 51.522)>, <POINT (-0.034 51.524)>, <POINT (-0.132 51.523)>, <POINT (0.104 51.484)>, <POINT (-0.133 51.511)>, <POINT (-0.086 51.509)>, <POINT (0.064 51.451)>, <POINT (0.051 51.493)>, <POINT (0.089 51.471)>, <POINT (-0.05 51.527)>, <POINT (-0.065 51.529)>, <POINT (0.13 51.503)>, <POINT (-0.042 51.501)>]\n"
     ]
    }
   ],
   "source": [
    "#generate random point inside of the bounds\n",
    "points = [Point(random.uniform(lon_min, lon_max), random.uniform(lat_min, lat_max)) for _ in range(NUM_POINTS)]\n",
    "print(points)"
   ]
  },
  {
   "cell_type": "code",
   "execution_count": null,
   "metadata": {},
   "outputs": [
    {
     "data": {
      "text/html": [
       "<div>\n",
       "<style scoped>\n",
       "    .dataframe tbody tr th:only-of-type {\n",
       "        vertical-align: middle;\n",
       "    }\n",
       "\n",
       "    .dataframe tbody tr th {\n",
       "        vertical-align: top;\n",
       "    }\n",
       "\n",
       "    .dataframe thead th {\n",
       "        text-align: right;\n",
       "    }\n",
       "</style>\n",
       "<table border=\"1\" class=\"dataframe\">\n",
       "  <thead>\n",
       "    <tr style=\"text-align: right;\">\n",
       "      <th></th>\n",
       "      <th>geometry</th>\n",
       "    </tr>\n",
       "  </thead>\n",
       "  <tbody>\n",
       "    <tr>\n",
       "      <th>0</th>\n",
       "      <td>POINT (0.04585 51.54945)</td>\n",
       "    </tr>\n",
       "    <tr>\n",
       "      <th>1</th>\n",
       "      <td>POINT (-0.01203 51.47087)</td>\n",
       "    </tr>\n",
       "    <tr>\n",
       "      <th>2</th>\n",
       "      <td>POINT (0.0707 51.48392)</td>\n",
       "    </tr>\n",
       "    <tr>\n",
       "      <th>3</th>\n",
       "      <td>POINT (-0.05857 51.52526)</td>\n",
       "    </tr>\n",
       "    <tr>\n",
       "      <th>4</th>\n",
       "      <td>POINT (-0.07841 51.53094)</td>\n",
       "    </tr>\n",
       "  </tbody>\n",
       "</table>\n",
       "</div>"
      ],
      "text/plain": [
       "                    geometry\n",
       "0   POINT (0.04585 51.54945)\n",
       "1  POINT (-0.01203 51.47087)\n",
       "2    POINT (0.0707 51.48392)\n",
       "3  POINT (-0.05857 51.52526)\n",
       "4  POINT (-0.07841 51.53094)"
      ]
     },
     "execution_count": 181,
     "metadata": {},
     "output_type": "execute_result"
    }
   ],
   "source": [
    "#create geodataframe and assign crs\n",
    "gdf_points = gpd.GeoDataFrame(geometry=points, crs=\"EPSG:4326\")"
   ]
  },
  {
   "cell_type": "code",
   "execution_count": null,
   "metadata": {},
   "outputs": [
    {
     "name": "stdout",
     "output_type": "stream",
     "text": [
      "POINT (-0.1258463621025699 51.53902584350162)\n"
     ]
    }
   ],
   "source": [
    "central_point = gdf_points.sample(1).iloc[0].geometry\n",
    "print(central_point)"
   ]
  },
  {
   "cell_type": "code",
   "execution_count": 178,
   "metadata": {},
   "outputs": [
    {
     "name": "stdout",
     "output_type": "stream",
     "text": [
      "POINT (5553.690222233549 6705138.887228777)\n"
     ]
    }
   ],
   "source": [
    "gdf_points = gdf_points.to_crs(\"EPSG:3857\") #crs for general cases\n",
    "central_point = gdf_points.sample(1).iloc[0].geometry\n",
    "print(central_point)"
   ]
  },
  {
   "cell_type": "code",
   "execution_count": null,
   "metadata": {},
   "outputs": [
    {
     "name": "stdout",
     "output_type": "stream",
     "text": [
      "POLYGON ((15553.690222233548 6705138.887228777, 15505.537488955517 6704158.715825481, 15361.543026265852 6703187.984008616, 15123.093579555636 6702236.040456232, 14792.485547346416 6701312.052905126, 14372.9028657171 6700424.919860517, 13868.386345259001 6699583.18489858, 13283.79475586092 6698794.95438714, 12624.758034099024 6698067.819416911, 11897.623063870004 6697408.782695149, 11109.392552429572 6696824.191105751, 10267.657590493527 6696319.674585293, 9380.524545884447 6695900.091903664, 8456.536994778173 6695569.483871454, 7504.593442394833 6695331.034424745, 6533.861625529157 6695187.039962055, 5553.69022223355 6695138.887228777, 4573.518818937943 6695187.039962055, 3602.7870020722676 6695331.034424745, 2650.8434496889276 6695569.483871454, 1726.8558985826521 6695900.091903664, 839.7228539735725 6696319.674585293, -2.012107962470509 6696824.191105751, -790.2426194029049 6697408.782695149, -1517.3775896319257 6698067.819416911, -2176.4143113938208 6698794.95438714, -2761.0059007919035 6699583.18489858, -3265.5224212500007 6700424.919860517, -3685.105102879318 6701312.052905126, -4015.7131350885384 6702236.040456232, -4254.162581798754 6703187.984008616, -4398.157044488419 6704158.715825481, -4446.309777766451 6705138.887228777, -4398.157044488419 6706119.058632072, -4254.162581798754 6707089.790448938, -4015.71313508854 6708041.734001322, -3685.10510287932 6708965.721552428, -3265.5224212500007 6709852.854597037, -2761.0059007919053 6710694.589558973, -2176.4143113938217 6711482.820070413, -1517.3775896319275 6712209.955040642, -790.2426194029103 6712868.991762404, -2.012107962472328 6713453.583351802, 839.7228539735706 6713958.09987226, 1726.8558985826458 6714377.682553889, 2650.843449688925 6714708.290586099, 3602.7870020722626 6714946.740032809, 4573.518818937945 6715090.734495498, 5553.6902222335475 6715138.887228777, 6533.86162552915 6715090.734495498, 7504.593442394833 6714946.740032809, 8456.53699477817 6714708.290586099, 9380.52454588445 6714377.682553889, 10267.657590493525 6713958.09987226, 11109.392552429566 6713453.583351802, 11897.623063870005 6712868.991762404, 12624.758034099023 6712209.955040642, 13283.794755860916 6711482.820070413, 13868.386345259001 6710694.589558973, 14372.902865717097 6709852.854597037, 14792.485547346416 6708965.721552428, 15123.093579555636 6708041.734001322, 15361.543026265852 6707089.790448938, 15505.537488955517 6706119.058632072, 15553.690222233548 6705138.887228777))\n"
     ]
    }
   ],
   "source": [
    "#create a radius around a central point // buffer\n",
    "buffer = central_point.buffer(BUFFER_RADIUS) "
   ]
  },
  {
   "cell_type": "code",
   "execution_count": 180,
   "metadata": {},
   "outputs": [
    {
     "name": "stdout",
     "output_type": "stream",
     "text": [
      "points inside radius 35 from  100 points\n"
     ]
    }
   ],
   "source": [
    "points_within_buffer = gdf_points[gdf_points.geometry.within(buffer)]\n",
    "print(\"points inside radius\",len(points_within_buffer), \"from \",len(points), \"points\")"
   ]
  }
 ],
 "metadata": {
  "kernelspec": {
   "display_name": "venv",
   "language": "python",
   "name": "python3"
  },
  "language_info": {
   "codemirror_mode": {
    "name": "ipython",
    "version": 3
   },
   "file_extension": ".py",
   "mimetype": "text/x-python",
   "name": "python",
   "nbconvert_exporter": "python",
   "pygments_lexer": "ipython3",
   "version": "3.10.11"
  }
 },
 "nbformat": 4,
 "nbformat_minor": 2
}
